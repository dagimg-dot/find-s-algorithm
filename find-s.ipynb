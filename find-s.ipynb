{
 "cells": [
  {
   "cell_type": "code",
   "execution_count": 1,
   "metadata": {},
   "outputs": [],
   "source": [
    "import numpy as np\n",
    "import pandas as pd"
   ]
  },
  {
   "cell_type": "code",
   "execution_count": 32,
   "metadata": {},
   "outputs": [
    {
     "data": {
      "text/html": [
       "<div>\n",
       "<style scoped>\n",
       "    .dataframe tbody tr th:only-of-type {\n",
       "        vertical-align: middle;\n",
       "    }\n",
       "\n",
       "    .dataframe tbody tr th {\n",
       "        vertical-align: top;\n",
       "    }\n",
       "\n",
       "    .dataframe thead th {\n",
       "        text-align: right;\n",
       "    }\n",
       "</style>\n",
       "<table border=\"1\" class=\"dataframe\">\n",
       "  <thead>\n",
       "    <tr style=\"text-align: right;\">\n",
       "      <th></th>\n",
       "      <th>citations</th>\n",
       "      <th>size</th>\n",
       "      <th>inLibrary</th>\n",
       "      <th>price</th>\n",
       "      <th>editions</th>\n",
       "      <th>buy</th>\n",
       "    </tr>\n",
       "  </thead>\n",
       "  <tbody>\n",
       "    <tr>\n",
       "      <th>0</th>\n",
       "      <td>some</td>\n",
       "      <td>small</td>\n",
       "      <td>no</td>\n",
       "      <td>affordable</td>\n",
       "      <td>many</td>\n",
       "      <td>no</td>\n",
       "    </tr>\n",
       "    <tr>\n",
       "      <th>1</th>\n",
       "      <td>many</td>\n",
       "      <td>big</td>\n",
       "      <td>no</td>\n",
       "      <td>expensive</td>\n",
       "      <td>one</td>\n",
       "      <td>yes</td>\n",
       "    </tr>\n",
       "    <tr>\n",
       "      <th>2</th>\n",
       "      <td>some</td>\n",
       "      <td>big</td>\n",
       "      <td>always</td>\n",
       "      <td>expensive</td>\n",
       "      <td>few</td>\n",
       "      <td>no</td>\n",
       "    </tr>\n",
       "    <tr>\n",
       "      <th>3</th>\n",
       "      <td>many</td>\n",
       "      <td>medium</td>\n",
       "      <td>no</td>\n",
       "      <td>expensive</td>\n",
       "      <td>many</td>\n",
       "      <td>yes</td>\n",
       "    </tr>\n",
       "    <tr>\n",
       "      <th>4</th>\n",
       "      <td>many</td>\n",
       "      <td>small</td>\n",
       "      <td>no</td>\n",
       "      <td>afforable</td>\n",
       "      <td>many</td>\n",
       "      <td>yes</td>\n",
       "    </tr>\n",
       "  </tbody>\n",
       "</table>\n",
       "</div>"
      ],
      "text/plain": [
       "  citations    size inLibrary       price editions  buy\n",
       "0      some   small        no  affordable     many   no\n",
       "1      many     big        no   expensive      one  yes\n",
       "2      some     big    always   expensive      few   no\n",
       "3      many  medium        no   expensive     many  yes\n",
       "4      many   small        no   afforable     many  yes"
      ]
     },
     "execution_count": 32,
     "metadata": {},
     "output_type": "execute_result"
    }
   ],
   "source": [
    "data = pd.read_csv('Sampledata-2.csv')\n",
    "data.head()"
   ]
  },
  {
   "cell_type": "code",
   "execution_count": 35,
   "metadata": {},
   "outputs": [
    {
     "name": "stdout",
     "output_type": "stream",
     "text": [
      "['many', 'big', 'no', 'expensive', 'one', 'yes']\n",
      "['?', '?', '?', '?', '?']\n",
      "['many', 'medium', 'no', 'expensive', 'many', 'yes']\n",
      "['?', '?', '?', '?', '?']\n",
      "['many', 'small', 'no', 'afforable', 'many', 'yes']\n",
      "['?', '?', '?', '?', '?']\n",
      "['?', '?', '?', '?', '?']\n"
     ]
    }
   ],
   "source": [
    "# print(data)    \n",
    "# function to make the generalized hypothesis\n",
    "def generalized_hypo(data):\n",
    "    attr_len = data.shape[1] - 1\n",
    "    h0 = [\"0\"] * attr_len\n",
    "    for i in range(data.shape[0]):\n",
    "        currRow = data.values.tolist()[i]\n",
    "        if currRow[-1] == \"no\":\n",
    "            continue\n",
    "        else:\n",
    "            print(currRow)\n",
    "            for j in range(attr_len):\n",
    "                if h0[j] == currRow[j]:\n",
    "                    continue\n",
    "                else:\n",
    "                    if i == 0:\n",
    "                        h0[j] = currRow[j]\n",
    "                    else:\n",
    "                        h0[j] = \"?\"\n",
    "\n",
    "            print(h0)\n",
    "            \n",
    "    return h0\n",
    "\n",
    "print(generalized_hypo(data))"
   ]
  }
 ],
 "metadata": {
  "kernelspec": {
   "display_name": "mlprojects",
   "language": "python",
   "name": "mlprojects"
  },
  "language_info": {
   "codemirror_mode": {
    "name": "ipython",
    "version": 3
   },
   "file_extension": ".py",
   "mimetype": "text/x-python",
   "name": "python",
   "nbconvert_exporter": "python",
   "pygments_lexer": "ipython3",
   "version": "3.8.0"
  },
  "orig_nbformat": 4,
  "vscode": {
   "interpreter": {
    "hash": "0d775e6c8e99404f1c47d0719ed6073e7df5eaea1ccc09f9708a2bb78cc6a23f"
   }
  }
 },
 "nbformat": 4,
 "nbformat_minor": 2
}
